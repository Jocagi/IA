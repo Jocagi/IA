{
 "cells": [
  {
   "cell_type": "code",
   "execution_count": 1,
   "id": "3256215c",
   "metadata": {},
   "outputs": [
    {
     "data": {
      "text/plain": [
       "array([[-0.57806555,  2.29963922,  0.78261251, -0.91805357],\n",
       "       [ 0.40174313, -0.72880818,  0.04113213, -1.32199177],\n",
       "       [-0.31785245,  0.91985103, -1.25579385,  0.59716363],\n",
       "       [-0.96541791, -0.20850478,  0.53427439,  0.39822955],\n",
       "       [ 0.55413767, -1.18087992,  1.11352879, -0.15049777]])"
      ]
     },
     "execution_count": 1,
     "metadata": {},
     "output_type": "execute_result"
    }
   ],
   "source": [
    "import numpy as np\n",
    "data = np.random.randn(5,4)\n",
    "data"
   ]
  },
  {
   "cell_type": "code",
   "execution_count": 2,
   "id": "e403ec85",
   "metadata": {},
   "outputs": [
    {
     "data": {
      "text/plain": [
       "0.0008223138296433619"
      ]
     },
     "execution_count": 2,
     "metadata": {},
     "output_type": "execute_result"
    }
   ],
   "source": [
    "data.mean()"
   ]
  },
  {
   "cell_type": "code",
   "execution_count": 4,
   "id": "3179a5e1",
   "metadata": {},
   "outputs": [
    {
     "data": {
      "text/html": [
       "<div>\n",
       "<style scoped>\n",
       "    .dataframe tbody tr th:only-of-type {\n",
       "        vertical-align: middle;\n",
       "    }\n",
       "\n",
       "    .dataframe tbody tr th {\n",
       "        vertical-align: top;\n",
       "    }\n",
       "\n",
       "    .dataframe thead th {\n",
       "        text-align: right;\n",
       "    }\n",
       "</style>\n",
       "<table border=\"1\" class=\"dataframe\">\n",
       "  <thead>\n",
       "    <tr style=\"text-align: right;\">\n",
       "      <th></th>\n",
       "      <th>c1</th>\n",
       "      <th>c2</th>\n",
       "      <th>c3</th>\n",
       "      <th>c4</th>\n",
       "    </tr>\n",
       "  </thead>\n",
       "  <tbody>\n",
       "    <tr>\n",
       "      <th>a</th>\n",
       "      <td>-0.578066</td>\n",
       "      <td>2.299639</td>\n",
       "      <td>0.782613</td>\n",
       "      <td>-0.918054</td>\n",
       "    </tr>\n",
       "    <tr>\n",
       "      <th>b</th>\n",
       "      <td>0.401743</td>\n",
       "      <td>-0.728808</td>\n",
       "      <td>0.041132</td>\n",
       "      <td>-1.321992</td>\n",
       "    </tr>\n",
       "    <tr>\n",
       "      <th>c</th>\n",
       "      <td>-0.317852</td>\n",
       "      <td>0.919851</td>\n",
       "      <td>-1.255794</td>\n",
       "      <td>0.597164</td>\n",
       "    </tr>\n",
       "    <tr>\n",
       "      <th>d</th>\n",
       "      <td>-0.965418</td>\n",
       "      <td>-0.208505</td>\n",
       "      <td>0.534274</td>\n",
       "      <td>0.398230</td>\n",
       "    </tr>\n",
       "    <tr>\n",
       "      <th>e</th>\n",
       "      <td>0.554138</td>\n",
       "      <td>-1.180880</td>\n",
       "      <td>1.113529</td>\n",
       "      <td>-0.150498</td>\n",
       "    </tr>\n",
       "  </tbody>\n",
       "</table>\n",
       "</div>"
      ],
      "text/plain": [
       "         c1        c2        c3        c4\n",
       "a -0.578066  2.299639  0.782613 -0.918054\n",
       "b  0.401743 -0.728808  0.041132 -1.321992\n",
       "c -0.317852  0.919851 -1.255794  0.597164\n",
       "d -0.965418 -0.208505  0.534274  0.398230\n",
       "e  0.554138 -1.180880  1.113529 -0.150498"
      ]
     },
     "execution_count": 4,
     "metadata": {},
     "output_type": "execute_result"
    }
   ],
   "source": [
    "import pandas as pd\n",
    "dataframe = pd.DataFrame(data, index=['a', 'b', 'c', 'd', 'e'], columns=['c1', 'c2', 'c3', 'c4'])\n",
    "dataframe"
   ]
  },
  {
   "cell_type": "code",
   "execution_count": null,
   "id": "e3aed8c9",
   "metadata": {},
   "outputs": [],
   "source": []
  }
 ],
 "metadata": {
  "kernelspec": {
   "display_name": "Python 3",
   "language": "python",
   "name": "python3"
  },
  "language_info": {
   "codemirror_mode": {
    "name": "ipython",
    "version": 3
   },
   "file_extension": ".py",
   "mimetype": "text/x-python",
   "name": "python",
   "nbconvert_exporter": "python",
   "pygments_lexer": "ipython3",
   "version": "3.9.4"
  }
 },
 "nbformat": 4,
 "nbformat_minor": 5
}
