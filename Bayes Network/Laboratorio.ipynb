{
 "cells": [
  {
   "cell_type": "markdown",
   "id": "8ed3a98a",
   "metadata": {},
   "source": [
    "# Laboratorio 9 \n",
    "## José Carlos Girón Márquez 1064718"
   ]
  },
  {
   "cell_type": "code",
   "execution_count": 1,
   "id": "586806c6",
   "metadata": {},
   "outputs": [],
   "source": [
    "import pyAgrum as gum\n",
    "import numpy as np\n",
    "import pandas as pd\n",
    "import pyAgrum.lib.notebook as gnb"
   ]
  },
  {
   "cell_type": "code",
   "execution_count": 2,
   "id": "4627d246",
   "metadata": {},
   "outputs": [],
   "source": [
    "np.random.seed(2131982)"
   ]
  },
  {
   "cell_type": "markdown",
   "id": "10466aa2",
   "metadata": {},
   "source": [
    "# Estadística Descriptiva"
   ]
  },
  {
   "cell_type": "code",
   "execution_count": 3,
   "id": "fa740406",
   "metadata": {},
   "outputs": [
    {
     "data": {
      "text/plain": [
       "array([[ 1,  2, 47, 58, 88, 78, 70, 79, 18, 21],\n",
       "       [73, 19, 15, 12, 73, 87, 60, 27, 10, 78],\n",
       "       [85, 90, 90, 79, 42,  5, 82, 58, 99, 97],\n",
       "       [37, 36, 46, 47, 14, 16, 20,  5, 31, 87],\n",
       "       [13, 17, 53, 38, 46, 47, 32, 58, 62, 48],\n",
       "       [97, 18, 58, 98, 25, 41, 76, 61, 24, 10],\n",
       "       [41, 24, 15, 65,  5, 75, 83, 19, 10, 94],\n",
       "       [ 8, 26, 62, 23, 14, 72, 43, 21, 46, 84],\n",
       "       [57, 36, 93, 23, 98, 69, 38, 45, 28, 99],\n",
       "       [97, 91, 90, 23, 69, 90, 77, 72, 72, 36]])"
      ]
     },
     "execution_count": 3,
     "metadata": {},
     "output_type": "execute_result"
    }
   ],
   "source": [
    "data = np.random.randint(0, 100, size = (10,10))\n",
    "data"
   ]
  },
  {
   "cell_type": "markdown",
   "id": "592480bc",
   "metadata": {},
   "source": [
    "### Media aritmética"
   ]
  },
  {
   "cell_type": "code",
   "execution_count": 4,
   "id": "d8cbd29f",
   "metadata": {},
   "outputs": [
    {
     "data": {
      "text/plain": [
       "50.37"
      ]
     },
     "execution_count": 4,
     "metadata": {},
     "output_type": "execute_result"
    }
   ],
   "source": [
    "np.mean(data)"
   ]
  },
  {
   "cell_type": "markdown",
   "id": "facd2c86",
   "metadata": {},
   "source": [
    "### Mediana"
   ]
  },
  {
   "cell_type": "code",
   "execution_count": 5,
   "id": "46690c8b",
   "metadata": {},
   "outputs": [
    {
     "data": {
      "text/plain": [
       "47.0"
      ]
     },
     "execution_count": 5,
     "metadata": {},
     "output_type": "execute_result"
    }
   ],
   "source": [
    "np.median(data)"
   ]
  },
  {
   "cell_type": "markdown",
   "id": "286025fa",
   "metadata": {},
   "source": [
    "### Desviación típica"
   ]
  },
  {
   "cell_type": "code",
   "execution_count": 6,
   "id": "bbc798ab",
   "metadata": {},
   "outputs": [
    {
     "data": {
      "text/plain": [
       "29.729330634913392"
      ]
     },
     "execution_count": 6,
     "metadata": {},
     "output_type": "execute_result"
    }
   ],
   "source": [
    "np.std(data)"
   ]
  },
  {
   "cell_type": "markdown",
   "id": "2851c1ee",
   "metadata": {},
   "source": [
    "### Varianza"
   ]
  },
  {
   "cell_type": "code",
   "execution_count": 7,
   "id": "78481556",
   "metadata": {},
   "outputs": [
    {
     "data": {
      "text/plain": [
       "883.8331"
      ]
     },
     "execution_count": 7,
     "metadata": {},
     "output_type": "execute_result"
    }
   ],
   "source": [
    "np.var(data)"
   ]
  },
  {
   "cell_type": "markdown",
   "id": "d2f79dbb",
   "metadata": {},
   "source": [
    "### Media aritmética de cada fila"
   ]
  },
  {
   "cell_type": "code",
   "execution_count": 8,
   "id": "5ae798f3",
   "metadata": {},
   "outputs": [
    {
     "data": {
      "text/plain": [
       "array([50.9, 35.9, 56.9, 46.6, 47.4, 58. , 58.1, 44.5, 40. , 65.4])"
      ]
     },
     "execution_count": 8,
     "metadata": {},
     "output_type": "execute_result"
    }
   ],
   "source": [
    "data.mean(0)"
   ]
  },
  {
   "cell_type": "markdown",
   "id": "bdecfb5e",
   "metadata": {},
   "source": [
    "### Media aritmética de cada columna"
   ]
  },
  {
   "cell_type": "code",
   "execution_count": 9,
   "id": "58e4f20a",
   "metadata": {},
   "outputs": [
    {
     "data": {
      "text/plain": [
       "array([46.2, 45.4, 72.7, 33.9, 41.4, 50.8, 43.1, 39.9, 58.6, 71.7])"
      ]
     },
     "execution_count": 9,
     "metadata": {},
     "output_type": "execute_result"
    }
   ],
   "source": [
    "data.mean(1)"
   ]
  },
  {
   "cell_type": "markdown",
   "id": "b2c22255",
   "metadata": {},
   "source": [
    "### Desviación típica de cada fila"
   ]
  },
  {
   "cell_type": "code",
   "execution_count": 10,
   "id": "821b01b8",
   "metadata": {},
   "outputs": [
    {
     "data": {
      "text/plain": [
       "array([34.6365414 , 28.83556831, 26.95347844, 26.65032833, 31.45218593,\n",
       "       28.02498885, 21.86069532, 23.77498686, 27.91057147, 31.81886233])"
      ]
     },
     "execution_count": 10,
     "metadata": {},
     "output_type": "execute_result"
    }
   ],
   "source": [
    "data.std(0)"
   ]
  },
  {
   "cell_type": "markdown",
   "id": "af36f1d9",
   "metadata": {},
   "source": [
    "### Desviación típica de cada columna"
   ]
  },
  {
   "cell_type": "code",
   "execution_count": 11,
   "id": "3753c283",
   "metadata": {},
   "outputs": [
    {
     "data": {
      "text/plain": [
       "array([31.57150614, 29.76306436, 28.10711654, 22.14700883, 15.59615337,\n",
       "       30.61633551, 31.57039753, 24.56603346, 27.93277645, 23.16052676])"
      ]
     },
     "execution_count": 11,
     "metadata": {},
     "output_type": "execute_result"
    }
   ],
   "source": [
    "data.std(1)"
   ]
  },
  {
   "cell_type": "markdown",
   "id": "30e6c55e",
   "metadata": {},
   "source": [
    "### Varianza de cada fila"
   ]
  },
  {
   "cell_type": "code",
   "execution_count": 12,
   "id": "ef34628a",
   "metadata": {},
   "outputs": [
    {
     "data": {
      "text/plain": [
       "array([1199.69,  831.49,  726.49,  710.24,  989.24,  785.4 ,  477.89,\n",
       "        565.25,  779.  , 1012.44])"
      ]
     },
     "execution_count": 12,
     "metadata": {},
     "output_type": "execute_result"
    }
   ],
   "source": [
    "data.var(0)"
   ]
  },
  {
   "cell_type": "markdown",
   "id": "05997e65",
   "metadata": {},
   "source": [
    "### Varianza de cada columna"
   ]
  },
  {
   "cell_type": "code",
   "execution_count": 13,
   "id": "8412825f",
   "metadata": {},
   "outputs": [
    {
     "data": {
      "text/plain": [
       "array([996.76, 885.84, 790.01, 490.49, 243.24, 937.36, 996.69, 603.49,\n",
       "       780.24, 536.41])"
      ]
     },
     "execution_count": 13,
     "metadata": {},
     "output_type": "execute_result"
    }
   ],
   "source": [
    "data.var(1)"
   ]
  },
  {
   "cell_type": "markdown",
   "id": "3cf3300b",
   "metadata": {},
   "source": [
    "### Dataframe con pandas"
   ]
  },
  {
   "cell_type": "code",
   "execution_count": 14,
   "id": "d4c4083f",
   "metadata": {},
   "outputs": [
    {
     "data": {
      "text/html": [
       "<div>\n",
       "<style scoped>\n",
       "    .dataframe tbody tr th:only-of-type {\n",
       "        vertical-align: middle;\n",
       "    }\n",
       "\n",
       "    .dataframe tbody tr th {\n",
       "        vertical-align: top;\n",
       "    }\n",
       "\n",
       "    .dataframe thead th {\n",
       "        text-align: right;\n",
       "    }\n",
       "</style>\n",
       "<table border=\"1\" class=\"dataframe\">\n",
       "  <thead>\n",
       "    <tr style=\"text-align: right;\">\n",
       "      <th></th>\n",
       "      <th>c1</th>\n",
       "      <th>c2</th>\n",
       "      <th>c3</th>\n",
       "      <th>c4</th>\n",
       "      <th>c5</th>\n",
       "      <th>c6</th>\n",
       "      <th>c7</th>\n",
       "      <th>c8</th>\n",
       "      <th>c9</th>\n",
       "      <th>c10</th>\n",
       "    </tr>\n",
       "  </thead>\n",
       "  <tbody>\n",
       "    <tr>\n",
       "      <th>a</th>\n",
       "      <td>1</td>\n",
       "      <td>2</td>\n",
       "      <td>47</td>\n",
       "      <td>58</td>\n",
       "      <td>88</td>\n",
       "      <td>78</td>\n",
       "      <td>70</td>\n",
       "      <td>79</td>\n",
       "      <td>18</td>\n",
       "      <td>21</td>\n",
       "    </tr>\n",
       "    <tr>\n",
       "      <th>b</th>\n",
       "      <td>73</td>\n",
       "      <td>19</td>\n",
       "      <td>15</td>\n",
       "      <td>12</td>\n",
       "      <td>73</td>\n",
       "      <td>87</td>\n",
       "      <td>60</td>\n",
       "      <td>27</td>\n",
       "      <td>10</td>\n",
       "      <td>78</td>\n",
       "    </tr>\n",
       "    <tr>\n",
       "      <th>c</th>\n",
       "      <td>85</td>\n",
       "      <td>90</td>\n",
       "      <td>90</td>\n",
       "      <td>79</td>\n",
       "      <td>42</td>\n",
       "      <td>5</td>\n",
       "      <td>82</td>\n",
       "      <td>58</td>\n",
       "      <td>99</td>\n",
       "      <td>97</td>\n",
       "    </tr>\n",
       "    <tr>\n",
       "      <th>d</th>\n",
       "      <td>37</td>\n",
       "      <td>36</td>\n",
       "      <td>46</td>\n",
       "      <td>47</td>\n",
       "      <td>14</td>\n",
       "      <td>16</td>\n",
       "      <td>20</td>\n",
       "      <td>5</td>\n",
       "      <td>31</td>\n",
       "      <td>87</td>\n",
       "    </tr>\n",
       "    <tr>\n",
       "      <th>e</th>\n",
       "      <td>13</td>\n",
       "      <td>17</td>\n",
       "      <td>53</td>\n",
       "      <td>38</td>\n",
       "      <td>46</td>\n",
       "      <td>47</td>\n",
       "      <td>32</td>\n",
       "      <td>58</td>\n",
       "      <td>62</td>\n",
       "      <td>48</td>\n",
       "    </tr>\n",
       "    <tr>\n",
       "      <th>f</th>\n",
       "      <td>97</td>\n",
       "      <td>18</td>\n",
       "      <td>58</td>\n",
       "      <td>98</td>\n",
       "      <td>25</td>\n",
       "      <td>41</td>\n",
       "      <td>76</td>\n",
       "      <td>61</td>\n",
       "      <td>24</td>\n",
       "      <td>10</td>\n",
       "    </tr>\n",
       "    <tr>\n",
       "      <th>g</th>\n",
       "      <td>41</td>\n",
       "      <td>24</td>\n",
       "      <td>15</td>\n",
       "      <td>65</td>\n",
       "      <td>5</td>\n",
       "      <td>75</td>\n",
       "      <td>83</td>\n",
       "      <td>19</td>\n",
       "      <td>10</td>\n",
       "      <td>94</td>\n",
       "    </tr>\n",
       "    <tr>\n",
       "      <th>h</th>\n",
       "      <td>8</td>\n",
       "      <td>26</td>\n",
       "      <td>62</td>\n",
       "      <td>23</td>\n",
       "      <td>14</td>\n",
       "      <td>72</td>\n",
       "      <td>43</td>\n",
       "      <td>21</td>\n",
       "      <td>46</td>\n",
       "      <td>84</td>\n",
       "    </tr>\n",
       "    <tr>\n",
       "      <th>i</th>\n",
       "      <td>57</td>\n",
       "      <td>36</td>\n",
       "      <td>93</td>\n",
       "      <td>23</td>\n",
       "      <td>98</td>\n",
       "      <td>69</td>\n",
       "      <td>38</td>\n",
       "      <td>45</td>\n",
       "      <td>28</td>\n",
       "      <td>99</td>\n",
       "    </tr>\n",
       "    <tr>\n",
       "      <th>j</th>\n",
       "      <td>97</td>\n",
       "      <td>91</td>\n",
       "      <td>90</td>\n",
       "      <td>23</td>\n",
       "      <td>69</td>\n",
       "      <td>90</td>\n",
       "      <td>77</td>\n",
       "      <td>72</td>\n",
       "      <td>72</td>\n",
       "      <td>36</td>\n",
       "    </tr>\n",
       "  </tbody>\n",
       "</table>\n",
       "</div>"
      ],
      "text/plain": [
       "   c1  c2  c3  c4  c5  c6  c7  c8  c9  c10\n",
       "a   1   2  47  58  88  78  70  79  18   21\n",
       "b  73  19  15  12  73  87  60  27  10   78\n",
       "c  85  90  90  79  42   5  82  58  99   97\n",
       "d  37  36  46  47  14  16  20   5  31   87\n",
       "e  13  17  53  38  46  47  32  58  62   48\n",
       "f  97  18  58  98  25  41  76  61  24   10\n",
       "g  41  24  15  65   5  75  83  19  10   94\n",
       "h   8  26  62  23  14  72  43  21  46   84\n",
       "i  57  36  93  23  98  69  38  45  28   99\n",
       "j  97  91  90  23  69  90  77  72  72   36"
      ]
     },
     "execution_count": 14,
     "metadata": {},
     "output_type": "execute_result"
    }
   ],
   "source": [
    "dataframe = pd.DataFrame(data, index=['a', 'b', 'c', 'd', 'e', 'f', 'g', 'h', 'i', 'j'], columns=['c1', 'c2', 'c3', 'c4', 'c5', 'c6', 'c7', 'c8', 'c9', 'c10'])\n",
    "dataframe"
   ]
  },
  {
   "cell_type": "code",
   "execution_count": 15,
   "id": "6495e2d0",
   "metadata": {},
   "outputs": [
    {
     "data": {
      "text/html": [
       "<div>\n",
       "<style scoped>\n",
       "    .dataframe tbody tr th:only-of-type {\n",
       "        vertical-align: middle;\n",
       "    }\n",
       "\n",
       "    .dataframe tbody tr th {\n",
       "        vertical-align: top;\n",
       "    }\n",
       "\n",
       "    .dataframe thead th {\n",
       "        text-align: right;\n",
       "    }\n",
       "</style>\n",
       "<table border=\"1\" class=\"dataframe\">\n",
       "  <thead>\n",
       "    <tr style=\"text-align: right;\">\n",
       "      <th></th>\n",
       "      <th>c1</th>\n",
       "      <th>c2</th>\n",
       "      <th>c3</th>\n",
       "      <th>c4</th>\n",
       "      <th>c5</th>\n",
       "      <th>c6</th>\n",
       "      <th>c7</th>\n",
       "      <th>c8</th>\n",
       "      <th>c9</th>\n",
       "      <th>c10</th>\n",
       "    </tr>\n",
       "  </thead>\n",
       "  <tbody>\n",
       "    <tr>\n",
       "      <th>count</th>\n",
       "      <td>10.00000</td>\n",
       "      <td>10.000000</td>\n",
       "      <td>10.000000</td>\n",
       "      <td>10.000000</td>\n",
       "      <td>10.000000</td>\n",
       "      <td>10.000000</td>\n",
       "      <td>10.000000</td>\n",
       "      <td>10.000000</td>\n",
       "      <td>10.000000</td>\n",
       "      <td>10.000000</td>\n",
       "    </tr>\n",
       "    <tr>\n",
       "      <th>mean</th>\n",
       "      <td>50.90000</td>\n",
       "      <td>35.900000</td>\n",
       "      <td>56.900000</td>\n",
       "      <td>46.600000</td>\n",
       "      <td>47.400000</td>\n",
       "      <td>58.000000</td>\n",
       "      <td>58.100000</td>\n",
       "      <td>44.500000</td>\n",
       "      <td>40.000000</td>\n",
       "      <td>65.400000</td>\n",
       "    </tr>\n",
       "    <tr>\n",
       "      <th>std</th>\n",
       "      <td>36.51012</td>\n",
       "      <td>30.395358</td>\n",
       "      <td>28.411461</td>\n",
       "      <td>28.091913</td>\n",
       "      <td>33.153515</td>\n",
       "      <td>29.540932</td>\n",
       "      <td>23.043196</td>\n",
       "      <td>25.061037</td>\n",
       "      <td>29.420326</td>\n",
       "      <td>33.540026</td>\n",
       "    </tr>\n",
       "    <tr>\n",
       "      <th>min</th>\n",
       "      <td>1.00000</td>\n",
       "      <td>2.000000</td>\n",
       "      <td>15.000000</td>\n",
       "      <td>12.000000</td>\n",
       "      <td>5.000000</td>\n",
       "      <td>5.000000</td>\n",
       "      <td>20.000000</td>\n",
       "      <td>5.000000</td>\n",
       "      <td>10.000000</td>\n",
       "      <td>10.000000</td>\n",
       "    </tr>\n",
       "    <tr>\n",
       "      <th>25%</th>\n",
       "      <td>19.00000</td>\n",
       "      <td>18.250000</td>\n",
       "      <td>46.250000</td>\n",
       "      <td>23.000000</td>\n",
       "      <td>16.750000</td>\n",
       "      <td>42.500000</td>\n",
       "      <td>39.250000</td>\n",
       "      <td>22.500000</td>\n",
       "      <td>19.500000</td>\n",
       "      <td>39.000000</td>\n",
       "    </tr>\n",
       "    <tr>\n",
       "      <th>50%</th>\n",
       "      <td>49.00000</td>\n",
       "      <td>25.000000</td>\n",
       "      <td>55.500000</td>\n",
       "      <td>42.500000</td>\n",
       "      <td>44.000000</td>\n",
       "      <td>70.500000</td>\n",
       "      <td>65.000000</td>\n",
       "      <td>51.500000</td>\n",
       "      <td>29.500000</td>\n",
       "      <td>81.000000</td>\n",
       "    </tr>\n",
       "    <tr>\n",
       "      <th>75%</th>\n",
       "      <td>82.00000</td>\n",
       "      <td>36.000000</td>\n",
       "      <td>83.000000</td>\n",
       "      <td>63.250000</td>\n",
       "      <td>72.000000</td>\n",
       "      <td>77.250000</td>\n",
       "      <td>76.750000</td>\n",
       "      <td>60.250000</td>\n",
       "      <td>58.000000</td>\n",
       "      <td>92.250000</td>\n",
       "    </tr>\n",
       "    <tr>\n",
       "      <th>max</th>\n",
       "      <td>97.00000</td>\n",
       "      <td>91.000000</td>\n",
       "      <td>93.000000</td>\n",
       "      <td>98.000000</td>\n",
       "      <td>98.000000</td>\n",
       "      <td>90.000000</td>\n",
       "      <td>83.000000</td>\n",
       "      <td>79.000000</td>\n",
       "      <td>99.000000</td>\n",
       "      <td>99.000000</td>\n",
       "    </tr>\n",
       "  </tbody>\n",
       "</table>\n",
       "</div>"
      ],
      "text/plain": [
       "             c1         c2         c3         c4         c5         c6  \\\n",
       "count  10.00000  10.000000  10.000000  10.000000  10.000000  10.000000   \n",
       "mean   50.90000  35.900000  56.900000  46.600000  47.400000  58.000000   \n",
       "std    36.51012  30.395358  28.411461  28.091913  33.153515  29.540932   \n",
       "min     1.00000   2.000000  15.000000  12.000000   5.000000   5.000000   \n",
       "25%    19.00000  18.250000  46.250000  23.000000  16.750000  42.500000   \n",
       "50%    49.00000  25.000000  55.500000  42.500000  44.000000  70.500000   \n",
       "75%    82.00000  36.000000  83.000000  63.250000  72.000000  77.250000   \n",
       "max    97.00000  91.000000  93.000000  98.000000  98.000000  90.000000   \n",
       "\n",
       "              c7         c8         c9        c10  \n",
       "count  10.000000  10.000000  10.000000  10.000000  \n",
       "mean   58.100000  44.500000  40.000000  65.400000  \n",
       "std    23.043196  25.061037  29.420326  33.540026  \n",
       "min    20.000000   5.000000  10.000000  10.000000  \n",
       "25%    39.250000  22.500000  19.500000  39.000000  \n",
       "50%    65.000000  51.500000  29.500000  81.000000  \n",
       "75%    76.750000  60.250000  58.000000  92.250000  \n",
       "max    83.000000  79.000000  99.000000  99.000000  "
      ]
     },
     "execution_count": 15,
     "metadata": {},
     "output_type": "execute_result"
    }
   ],
   "source": [
    "dataframe.describe()"
   ]
  },
  {
   "cell_type": "code",
   "execution_count": 16,
   "id": "69ab3bee",
   "metadata": {},
   "outputs": [
    {
     "name": "stdout",
     "output_type": "stream",
     "text": [
      "La mayoría de los datos son coherentes entre numpy y pandas, con la exepción de la desviación estándar que no coincide.\n"
     ]
    }
   ],
   "source": [
    "print(\"La mayoría de los datos son coherentes entre numpy y pandas, con la exepción de la desviación estándar que no coincide.\")"
   ]
  },
  {
   "cell_type": "markdown",
   "id": "bed6975b",
   "metadata": {},
   "source": [
    "# Redes de Bayes"
   ]
  },
  {
   "cell_type": "code",
   "execution_count": 17,
   "id": "1802843a",
   "metadata": {},
   "outputs": [
    {
     "name": "stdout",
     "output_type": "stream",
     "text": [
      "BN{nodes: 0, arcs: 0, domainSize: 1, dim: 0}\n"
     ]
    }
   ],
   "source": [
    "bn = gum.BayesNet()\n",
    "print(bn)"
   ]
  },
  {
   "cell_type": "code",
   "execution_count": 18,
   "id": "f2cbb22f",
   "metadata": {},
   "outputs": [
    {
     "name": "stdout",
     "output_type": "stream",
     "text": [
      "0 1 2 3 4\n",
      "BN{nodes: 5, arcs: 0, domainSize: 32, dim: 10}\n"
     ]
    }
   ],
   "source": [
    "b,e,j,a,m = [bn.add(name, 2) for name in \"bejam\"]\n",
    "print(b,e,j,a,m)\n",
    "print(bn)"
   ]
  },
  {
   "cell_type": "code",
   "execution_count": 19,
   "id": "3b5be468",
   "metadata": {},
   "outputs": [
    {
     "data": {
      "text/html": [
       "<svg xmlns=\"http://www.w3.org/2000/svg\" xmlns:xlink=\"http://www.w3.org/1999/xlink\" width=\"134pt\" height=\"188pt\" viewBox=\"0.00 0.00 134.00 188.00\">\n",
       "<g id=\"graph0\" class=\"graph\" transform=\"scale(1 1) rotate(0) translate(4 184)\">\n",
       "<title>G</title>\n",
       "<!-- a -->\n",
       "<g id=\"node1\" class=\"node\">\n",
       "<title>a</title>\n",
       "<g id=\"a_node1\"><a xlink:title=\"(3) a\">\n",
       "<ellipse fill=\"#404040\" stroke=\"black\" cx=\"63\" cy=\"-90\" rx=\"27\" ry=\"18\"/>\n",
       "<text text-anchor=\"middle\" x=\"63\" y=\"-86.3\" font-family=\"Times New Roman,serif\" font-size=\"14.00\" fill=\"white\">a</text>\n",
       "</a>\n",
       "</g>\n",
       "</g>\n",
       "<!-- j -->\n",
       "<g id=\"node2\" class=\"node\">\n",
       "<title>j</title>\n",
       "<g id=\"a_node2\"><a xlink:title=\"(2) j\">\n",
       "<ellipse fill=\"#404040\" stroke=\"black\" cx=\"27\" cy=\"-18\" rx=\"27\" ry=\"18\"/>\n",
       "<text text-anchor=\"middle\" x=\"27\" y=\"-14.3\" font-family=\"Times New Roman,serif\" font-size=\"14.00\" fill=\"white\">j</text>\n",
       "</a>\n",
       "</g>\n",
       "</g>\n",
       "<!-- a&#45;&gt;j -->\n",
       "<g id=\"edge1\" class=\"edge\">\n",
       "<title>a-&gt;j</title>\n",
       "<g id=\"a_edge1\"><a xlink:title=\"(3, 2) : \">\n",
       "<path fill=\"none\" stroke=\"#4a4a4a\" d=\"M54.65,-72.76C50.29,-64.28 44.85,-53.71 39.96,-44.2\"/>\n",
       "<polygon fill=\"#4a4a4a\" stroke=\"#4a4a4a\" points=\"42.99,-42.44 35.3,-35.15 36.77,-45.64 42.99,-42.44\"/>\n",
       "</a>\n",
       "</g>\n",
       "</g>\n",
       "<!-- m -->\n",
       "<g id=\"node3\" class=\"node\">\n",
       "<title>m</title>\n",
       "<g id=\"a_node3\"><a xlink:title=\"(4) m\">\n",
       "<ellipse fill=\"#404040\" stroke=\"black\" cx=\"99\" cy=\"-18\" rx=\"27\" ry=\"18\"/>\n",
       "<text text-anchor=\"middle\" x=\"99\" y=\"-14.3\" font-family=\"Times New Roman,serif\" font-size=\"14.00\" fill=\"white\">m</text>\n",
       "</a>\n",
       "</g>\n",
       "</g>\n",
       "<!-- a&#45;&gt;m -->\n",
       "<g id=\"edge4\" class=\"edge\">\n",
       "<title>a-&gt;m</title>\n",
       "<g id=\"a_edge4\"><a xlink:title=\"(3, 4) : \">\n",
       "<path fill=\"none\" stroke=\"#4a4a4a\" d=\"M71.35,-72.76C75.71,-64.28 81.15,-53.71 86.04,-44.2\"/>\n",
       "<polygon fill=\"#4a4a4a\" stroke=\"#4a4a4a\" points=\"89.23,-45.64 90.7,-35.15 83.01,-42.44 89.23,-45.64\"/>\n",
       "</a>\n",
       "</g>\n",
       "</g>\n",
       "<!-- b -->\n",
       "<g id=\"node4\" class=\"node\">\n",
       "<title>b</title>\n",
       "<g id=\"a_node4\"><a xlink:title=\"(0) b\">\n",
       "<ellipse fill=\"#404040\" stroke=\"black\" cx=\"27\" cy=\"-162\" rx=\"27\" ry=\"18\"/>\n",
       "<text text-anchor=\"middle\" x=\"27\" y=\"-158.3\" font-family=\"Times New Roman,serif\" font-size=\"14.00\" fill=\"white\">b</text>\n",
       "</a>\n",
       "</g>\n",
       "</g>\n",
       "<!-- b&#45;&gt;a -->\n",
       "<g id=\"edge2\" class=\"edge\">\n",
       "<title>b-&gt;a</title>\n",
       "<g id=\"a_edge2\"><a xlink:title=\"(0, 3) : \">\n",
       "<path fill=\"none\" stroke=\"#4a4a4a\" d=\"M35.35,-144.76C39.71,-136.28 45.15,-125.71 50.04,-116.2\"/>\n",
       "<polygon fill=\"#4a4a4a\" stroke=\"#4a4a4a\" points=\"53.23,-117.64 54.7,-107.15 47.01,-114.44 53.23,-117.64\"/>\n",
       "</a>\n",
       "</g>\n",
       "</g>\n",
       "<!-- e -->\n",
       "<g id=\"node5\" class=\"node\">\n",
       "<title>e</title>\n",
       "<g id=\"a_node5\"><a xlink:title=\"(1) e\">\n",
       "<ellipse fill=\"#404040\" stroke=\"black\" cx=\"99\" cy=\"-162\" rx=\"27\" ry=\"18\"/>\n",
       "<text text-anchor=\"middle\" x=\"99\" y=\"-158.3\" font-family=\"Times New Roman,serif\" font-size=\"14.00\" fill=\"white\">e</text>\n",
       "</a>\n",
       "</g>\n",
       "</g>\n",
       "<!-- e&#45;&gt;a -->\n",
       "<g id=\"edge3\" class=\"edge\">\n",
       "<title>e-&gt;a</title>\n",
       "<g id=\"a_edge3\"><a xlink:title=\"(1, 3) : \">\n",
       "<path fill=\"none\" stroke=\"#4a4a4a\" d=\"M90.65,-144.76C86.29,-136.28 80.85,-125.71 75.96,-116.2\"/>\n",
       "<polygon fill=\"#4a4a4a\" stroke=\"#4a4a4a\" points=\"78.99,-114.44 71.3,-107.15 72.77,-117.64 78.99,-114.44\"/>\n",
       "</a>\n",
       "</g>\n",
       "</g>\n",
       "</g>\n",
       "</svg>"
      ],
      "text/plain": [
       "(gum::BayesNet<double>@000002541702A5F0) BN{nodes: 5, arcs: 4, domainSize: 32, dim: 20}"
      ]
     },
     "execution_count": 19,
     "metadata": {},
     "output_type": "execute_result"
    }
   ],
   "source": [
    "bn.addArc(b,a)\n",
    "bn.addArc(e,a)\n",
    "bn.addArc(a,j)\n",
    "bn.addArc(a,m)\n",
    "bn"
   ]
  },
  {
   "cell_type": "code",
   "execution_count": 20,
   "id": "234df638",
   "metadata": {},
   "outputs": [
    {
     "data": {
      "text/html": [
       "<table style=\"border:1px solid black;\">\n",
       "<tr style='border:1px solid black;color:black;background-color:#808080'><th colspan='2'><center>e</center></th></tr>\n",
       "<tr><th style='border:1px solid black;border-bottom-style: double;color:black;background-color:#BBBBBB'><center>0</center></th><th style='border:1px solid black;border-bottom-style: double;color:black;background-color:#BBBBBB'><center>1</center></th></tr>\n",
       "<tr><td style='color:black;background-color:#7ffe64;text-align:right;'>0.9980</td><td style='color:black;background-color:#fe7f64;text-align:right;'>0.0020</td></tr>\n",
       "</table>"
      ],
      "text/plain": [
       "(gum::Potential<double>@000002542EC669C0) \n",
       "  e                |\n",
       "0        |1        |\n",
       "---------|---------|\n",
       " 0.9980  | 0.0020  |"
      ]
     },
     "execution_count": 20,
     "metadata": {},
     "output_type": "execute_result"
    }
   ],
   "source": [
    "bn.cpt(e).fillWith([0.998, 0.002])"
   ]
  },
  {
   "cell_type": "code",
   "execution_count": 21,
   "id": "04b39c3b",
   "metadata": {},
   "outputs": [
    {
     "data": {
      "text/html": [
       "<table style=\"border:1px solid black;\">\n",
       "<tr style='border:1px solid black;color:black;background-color:#808080'><th colspan='2'><center>b</center></th></tr>\n",
       "<tr><th style='border:1px solid black;border-bottom-style: double;color:black;background-color:#BBBBBB'><center>0</center></th><th style='border:1px solid black;border-bottom-style: double;color:black;background-color:#BBBBBB'><center>1</center></th></tr>\n",
       "<tr><td style='color:black;background-color:#7ffe64;text-align:right;'>0.9990</td><td style='color:black;background-color:#fe7f64;text-align:right;'>0.0010</td></tr>\n",
       "</table>"
      ],
      "text/plain": [
       "(gum::Potential<double>@000002542EC662E0) \n",
       "  b                |\n",
       "0        |1        |\n",
       "---------|---------|\n",
       " 0.9990  | 0.0010  |"
      ]
     },
     "execution_count": 21,
     "metadata": {},
     "output_type": "execute_result"
    }
   ],
   "source": [
    "bn.cpt(b).fillWith([0.999, 0.001])"
   ]
  },
  {
   "cell_type": "code",
   "execution_count": 22,
   "id": "0cdad6c1",
   "metadata": {},
   "outputs": [
    {
     "data": {
      "text/html": [
       "<table style=\"border:1px solid black;\">\n",
       "<tr><th colspan='2'></th><th colspan='2' style='border:1px solid black;color:black;background-color:#808080;'><center>a</center></th></tr>\n",
       "<tr><th style='border:1px solid black;color:black;background-color:#808080'><center>e</center></th><th style='border:1px solid black;color:black;background-color:#808080'><center>b</center></th><th style='border:1px solid black;border-bottom-style: double;color:black;background-color:#BBBBBB'><center>0</center></th><th style='border:1px solid black;border-bottom-style: double;color:black;background-color:#BBBBBB'><center>1</center></th></tr>\n",
       "<tr><th style='border:1px solid black;color:black;background-color:#BBBBBB;' rowspan = '2'><center>0</center></th><th style='border:1px solid black;color:black;background-color:#BBBBBB'><center>0</center></th><td style='color:black;background-color:#7ffe64;text-align:right;'>0.9990</td><td style='color:black;background-color:#fe7f64;text-align:right;'>0.0010</td></tr>\n",
       "<tr><th style='border:1px solid black;color:black;background-color:#BBBBBB'><center>1</center></th><td style='color:black;background-color:#f78664;text-align:right;'>0.0600</td><td style='color:black;background-color:#86f764;text-align:right;'>0.9400</td></tr>\n",
       "<tr><th style='border:1px solid black;color:black;background-color:#BBBBBB;' rowspan = '2'><center>1</center></th><th style='border:1px solid black;color:black;background-color:#BBBBBB'><center>0</center></th><td style='color:black;background-color:#a4d964;text-align:right;'>0.7100</td><td style='color:black;background-color:#d9a464;text-align:right;'>0.2900</td></tr>\n",
       "<tr><th style='border:1px solid black;color:black;background-color:#BBBBBB'><center>1</center></th><td style='color:black;background-color:#f88564;text-align:right;'>0.0500</td><td style='color:black;background-color:#85f864;text-align:right;'>0.9500</td></tr>\n",
       "</table>"
      ],
      "text/plain": [
       "(gum::Potential<double>@000002542EC66760) \n",
       "             ||  a                |\n",
       "b     |e     ||0        |1        |\n",
       "------|------||---------|---------|\n",
       "0     |0     || 0.9990  | 0.0010  |\n",
       "1     |0     || 0.0600  | 0.9400  |\n",
       "0     |1     || 0.7100  | 0.2900  |\n",
       "1     |1     || 0.0500  | 0.9500  |"
      ]
     },
     "execution_count": 22,
     "metadata": {},
     "output_type": "execute_result"
    }
   ],
   "source": [
    "bn.cpt(a)[{'b': 1, 'e': 1}] = [0.05, 0.95]\n",
    "bn.cpt(a)[{'b': 1, 'e': 0}] = [0.06, 0.94]\n",
    "bn.cpt(a)[{'b': 0, 'e': 1}] = [0.71, 0.29]\n",
    "bn.cpt(a)[{'b': 0, 'e': 0}] = [0.999, 0.001]\n",
    "bn.cpt(a)"
   ]
  },
  {
   "cell_type": "code",
   "execution_count": 23,
   "id": "4c6c6187",
   "metadata": {},
   "outputs": [
    {
     "data": {
      "text/html": [
       "<table style=\"border:1px solid black;\">\n",
       "<tr><th colspan='1'></th><th colspan='2' style='border:1px solid black;color:black;background-color:#808080;'><center>j</center></th></tr>\n",
       "<tr><th style='border:1px solid black;color:black;background-color:#808080'><center>a</center></th><th style='border:1px solid black;border-bottom-style: double;color:black;background-color:#BBBBBB'><center>0</center></th><th style='border:1px solid black;border-bottom-style: double;color:black;background-color:#BBBBBB'><center>1</center></th></tr>\n",
       "<tr><th style='border:1px solid black;color:black;background-color:#BBBBBB'><center>0</center></th><td style='color:black;background-color:#85f864;text-align:right;'>0.9500</td><td style='color:black;background-color:#f88564;text-align:right;'>0.0500</td></tr>\n",
       "<tr><th style='border:1px solid black;color:black;background-color:#BBBBBB'><center>1</center></th><td style='color:black;background-color:#f28b64;text-align:right;'>0.1000</td><td style='color:black;background-color:#8bf264;text-align:right;'>0.9000</td></tr>\n",
       "</table>"
      ],
      "text/plain": [
       "(gum::Potential<double>@000002542EC66A80) \n",
       "      ||  j                |\n",
       "a     ||0        |1        |\n",
       "------||---------|---------|\n",
       "0     || 0.9500  | 0.0500  |\n",
       "1     || 0.1000  | 0.9000  |"
      ]
     },
     "execution_count": 23,
     "metadata": {},
     "output_type": "execute_result"
    }
   ],
   "source": [
    "bn.cpt(j)[{'a':1}] = [0.1, 0.9]\n",
    "bn.cpt(j)[{'a':0}] = [0.95, 0.05]\n",
    "bn.cpt(j)"
   ]
  },
  {
   "cell_type": "code",
   "execution_count": 24,
   "id": "22b809b1",
   "metadata": {},
   "outputs": [
    {
     "data": {
      "text/html": [
       "<table style=\"border:1px solid black;\">\n",
       "<tr><th colspan='1'></th><th colspan='2' style='border:1px solid black;color:black;background-color:#808080;'><center>m</center></th></tr>\n",
       "<tr><th style='border:1px solid black;color:black;background-color:#808080'><center>a</center></th><th style='border:1px solid black;border-bottom-style: double;color:black;background-color:#BBBBBB'><center>0</center></th><th style='border:1px solid black;border-bottom-style: double;color:black;background-color:#BBBBBB'><center>1</center></th></tr>\n",
       "<tr><th style='border:1px solid black;color:black;background-color:#BBBBBB'><center>0</center></th><td style='color:black;background-color:#80fd64;text-align:right;'>0.9900</td><td style='color:black;background-color:#fd8064;text-align:right;'>0.0100</td></tr>\n",
       "<tr><th style='border:1px solid black;color:black;background-color:#BBBBBB'><center>1</center></th><td style='color:black;background-color:#d8a564;text-align:right;'>0.3000</td><td style='color:black;background-color:#a5d864;text-align:right;'>0.7000</td></tr>\n",
       "</table>"
      ],
      "text/plain": [
       "(gum::Potential<double>@000002542EC66400) \n",
       "      ||  m                |\n",
       "a     ||0        |1        |\n",
       "------||---------|---------|\n",
       "0     || 0.9900  | 0.0100  |\n",
       "1     || 0.3000  | 0.7000  |"
      ]
     },
     "execution_count": 24,
     "metadata": {},
     "output_type": "execute_result"
    }
   ],
   "source": [
    "bn.cpt(m)[{'a':1}] = [0.3, 0.7]\n",
    "bn.cpt(m)[{'a':0}] = [0.99, 0.01]\n",
    "bn.cpt(m)"
   ]
  },
  {
   "cell_type": "markdown",
   "id": "4062b7d1",
   "metadata": {},
   "source": [
    "<h2> $P(+b,−e,+a,−j,+m)$ </h2> <br>\n",
    " = $P(+b)P(-e)P(+a|+b,-e)P(-j|+a)P(+m|+a)$"
   ]
  },
  {
   "cell_type": "code",
   "execution_count": 25,
   "id": "c51c8f46",
   "metadata": {},
   "outputs": [
    {
     "name": "stdout",
     "output_type": "stream",
     "text": [
      "Probabilidad = 6.56684e-05\n"
     ]
    }
   ],
   "source": [
    "ie = gum.LazyPropagation(bn)\n",
    "ie.makeInference()\n",
    "\n",
    "#+b\n",
    "p1 = ie.posterior(b)[1]\n",
    "\n",
    "#-e\n",
    "p2 = ie.posterior(e)[0]\n",
    "\n",
    "ie.setEvidence({'b':1, 'e':0})\n",
    "ie.makeInference()\n",
    "\n",
    "#P(+a|+b,-e)\n",
    "p3 = ie.posterior(a)[1]\n",
    "\n",
    "ie.setEvidence({'a':1})\n",
    "ie.makeInference()\n",
    "\n",
    "#P(-j|+a)\n",
    "p4 = ie.posterior(j)[0]\n",
    "\n",
    "#P(+m|+a)\n",
    "p5 = ie.posterior(m)[1]\n",
    "\n",
    "value = p1 * p2 * p3 * p4 * p5\n",
    "\n",
    "print(\"Probabilidad = \" + str(value))"
   ]
  },
  {
   "cell_type": "markdown",
   "id": "d4ceab62",
   "metadata": {},
   "source": [
    "<h2> $P(m)$ </h2>\n"
   ]
  },
  {
   "cell_type": "code",
   "execution_count": 26,
   "id": "fdc76116",
   "metadata": {},
   "outputs": [
    {
     "data": {
      "text/html": [
       "<table style=\"border:1px solid black;\">\n",
       "<tr style='border:1px solid black;color:black;background-color:#808080'><th colspan='2'><center>m</center></th></tr>\n",
       "<tr><th style='border:1px solid black;border-bottom-style: double;color:black;background-color:#BBBBBB'><center>0</center></th><th style='border:1px solid black;border-bottom-style: double;color:black;background-color:#BBBBBB'><center>1</center></th></tr>\n",
       "<tr><td style='color:black;background-color:#80fd64;text-align:right;'>0.9883</td><td style='color:black;background-color:#fd8064;text-align:right;'>0.0117</td></tr>\n",
       "</table>"
      ],
      "text/plain": [
       "(gum::Potential<double>@000002542EC66720) \n",
       "  m                |\n",
       "0        |1        |\n",
       "---------|---------|\n",
       " 0.9883  | 0.0117  |"
      ]
     },
     "execution_count": 26,
     "metadata": {},
     "output_type": "execute_result"
    }
   ],
   "source": [
    "ie = gum.LazyPropagation(bn)\n",
    "ie.makeInference()\n",
    "ie.posterior(m)"
   ]
  },
  {
   "cell_type": "markdown",
   "id": "71a7c75c",
   "metadata": {},
   "source": [
    "<h2> $P(m|+b, +a)$ </h2>"
   ]
  },
  {
   "cell_type": "code",
   "execution_count": 27,
   "id": "6a19d3be",
   "metadata": {},
   "outputs": [
    {
     "data": {
      "text/html": [
       "<table style=\"border:1px solid black;\">\n",
       "<tr style='border:1px solid black;color:black;background-color:#808080'><th colspan='2'><center>m</center></th></tr>\n",
       "<tr><th style='border:1px solid black;border-bottom-style: double;color:black;background-color:#BBBBBB'><center>0</center></th><th style='border:1px solid black;border-bottom-style: double;color:black;background-color:#BBBBBB'><center>1</center></th></tr>\n",
       "<tr><td style='color:black;background-color:#d8a564;text-align:right;'>0.3000</td><td style='color:black;background-color:#a5d864;text-align:right;'>0.7000</td></tr>\n",
       "</table>"
      ],
      "text/plain": [
       "(gum::Potential<double>@000002542EC66540) \n",
       "  m                |\n",
       "0        |1        |\n",
       "---------|---------|\n",
       " 0.3000  | 0.7000  |"
      ]
     },
     "execution_count": 27,
     "metadata": {},
     "output_type": "execute_result"
    }
   ],
   "source": [
    "ie = gum.LazyPropagation(bn)\n",
    "ie.setEvidence({'b': 1, 'a': 1})\n",
    "ie.makeInference()\n",
    "ie.posterior(m)"
   ]
  }
 ],
 "metadata": {
  "kernelspec": {
   "display_name": "Python 3",
   "language": "python",
   "name": "python3"
  },
  "language_info": {
   "codemirror_mode": {
    "name": "ipython",
    "version": 3
   },
   "file_extension": ".py",
   "mimetype": "text/x-python",
   "name": "python",
   "nbconvert_exporter": "python",
   "pygments_lexer": "ipython3",
   "version": "3.9.4"
  }
 },
 "nbformat": 4,
 "nbformat_minor": 5
}
